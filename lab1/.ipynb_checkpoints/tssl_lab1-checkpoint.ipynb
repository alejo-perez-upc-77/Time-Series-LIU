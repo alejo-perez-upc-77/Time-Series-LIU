{
 "cells": [
  {
   "cell_type": "markdown",
   "metadata": {
    "tags": []
   },
   "source": [
    "# TSSL Lab 1 - Autoregressive models"
   ]
  },
  {
   "cell_type": "code",
   "execution_count": 2,
   "metadata": {},
   "outputs": [
    {
     "name": "stdout",
     "output_type": "stream",
     "text": [
      "Requirement already satisfied: numpy in c:\\users\\marty\\anaconda3\\envs\\time series\\lib\\site-packages (1.19.5)\n",
      "Requirement already satisfied: scipy in c:\\users\\marty\\anaconda3\\envs\\time series\\lib\\site-packages (1.7.1)\n",
      "Requirement already satisfied: matplotlib in c:\\users\\marty\\anaconda3\\envs\\time series\\lib\\site-packages (3.4.3)\n",
      "Requirement already satisfied: scikit-learn in c:\\users\\marty\\appdata\\roaming\\python\\python38\\site-packages (0.23.2)\n",
      "Requirement already satisfied: pandas in c:\\users\\marty\\anaconda3\\envs\\time series\\lib\\site-packages (1.3.2)\n",
      "Requirement already satisfied: tensorflow in c:\\users\\marty\\anaconda3\\envs\\time series\\lib\\site-packages (2.6.0)\n",
      "Requirement already satisfied: keras in c:\\users\\marty\\anaconda3\\envs\\time series\\lib\\site-packages (2.6.0)\n",
      "Requirement already satisfied: pyparsing>=2.2.1 in c:\\users\\marty\\anaconda3\\envs\\time series\\lib\\site-packages (from matplotlib) (2.4.7)\n",
      "Requirement already satisfied: python-dateutil>=2.7 in c:\\users\\marty\\anaconda3\\envs\\time series\\lib\\site-packages (from matplotlib) (2.8.2)\n",
      "Requirement already satisfied: pillow>=6.2.0 in c:\\users\\marty\\anaconda3\\envs\\time series\\lib\\site-packages (from matplotlib) (8.3.2)\n",
      "Requirement already satisfied: cycler>=0.10 in c:\\users\\marty\\anaconda3\\envs\\time series\\lib\\site-packages (from matplotlib) (0.10.0)\n",
      "Requirement already satisfied: kiwisolver>=1.0.1 in c:\\users\\marty\\anaconda3\\envs\\time series\\lib\\site-packages (from matplotlib) (1.3.2)\n",
      "Requirement already satisfied: threadpoolctl>=2.0.0 in c:\\users\\marty\\appdata\\roaming\\python\\python38\\site-packages (from scikit-learn) (2.2.0)\n",
      "Requirement already satisfied: joblib>=0.11 in c:\\users\\marty\\anaconda3\\envs\\time series\\lib\\site-packages (from scikit-learn) (1.0.1)\n",
      "Requirement already satisfied: pytz>=2017.3 in c:\\users\\marty\\anaconda3\\envs\\time series\\lib\\site-packages (from pandas) (2021.1)\n",
      "Requirement already satisfied: typing-extensions~=3.7.4 in c:\\users\\marty\\anaconda3\\envs\\time series\\lib\\site-packages (from tensorflow) (3.7.4.3)\n",
      "Requirement already satisfied: opt-einsum~=3.3.0 in c:\\users\\marty\\anaconda3\\envs\\time series\\lib\\site-packages (from tensorflow) (3.3.0)\n",
      "Requirement already satisfied: tensorboard~=2.6 in c:\\users\\marty\\anaconda3\\envs\\time series\\lib\\site-packages (from tensorflow) (2.6.0)\n",
      "Requirement already satisfied: flatbuffers~=1.12.0 in c:\\users\\marty\\anaconda3\\envs\\time series\\lib\\site-packages (from tensorflow) (1.12)\n",
      "Requirement already satisfied: keras-preprocessing~=1.1.2 in c:\\users\\marty\\anaconda3\\envs\\time series\\lib\\site-packages (from tensorflow) (1.1.2)\n",
      "Requirement already satisfied: protobuf>=3.9.2 in c:\\users\\marty\\appdata\\roaming\\python\\python38\\site-packages (from tensorflow) (3.17.3)\n",
      "Requirement already satisfied: gast==0.4.0 in c:\\users\\marty\\anaconda3\\envs\\time series\\lib\\site-packages (from tensorflow) (0.4.0)\n",
      "Requirement already satisfied: grpcio<2.0,>=1.37.0 in c:\\users\\marty\\anaconda3\\envs\\time series\\lib\\site-packages (from tensorflow) (1.39.0)\n",
      "Requirement already satisfied: h5py~=3.1.0 in c:\\users\\marty\\anaconda3\\envs\\time series\\lib\\site-packages (from tensorflow) (3.1.0)\n",
      "Requirement already satisfied: wrapt~=1.12.1 in c:\\users\\marty\\anaconda3\\envs\\time series\\lib\\site-packages (from tensorflow) (1.12.1)\n",
      "Requirement already satisfied: tensorflow-estimator~=2.6 in c:\\users\\marty\\anaconda3\\envs\\time series\\lib\\site-packages (from tensorflow) (2.6.0)\n",
      "Requirement already satisfied: six~=1.15.0 in c:\\users\\marty\\anaconda3\\envs\\time series\\lib\\site-packages (from tensorflow) (1.15.0)\n",
      "Requirement already satisfied: wheel~=0.35 in c:\\users\\marty\\anaconda3\\envs\\time series\\lib\\site-packages (from tensorflow) (0.37.0)\n",
      "Requirement already satisfied: clang~=5.0 in c:\\users\\marty\\anaconda3\\envs\\time series\\lib\\site-packages (from tensorflow) (5.0)\n",
      "Requirement already satisfied: astunparse~=1.6.3 in c:\\users\\marty\\anaconda3\\envs\\time series\\lib\\site-packages (from tensorflow) (1.6.3)\n",
      "Requirement already satisfied: absl-py~=0.10 in c:\\users\\marty\\anaconda3\\envs\\time series\\lib\\site-packages (from tensorflow) (0.13.0)\n",
      "Requirement already satisfied: termcolor~=1.1.0 in c:\\users\\marty\\anaconda3\\envs\\time series\\lib\\site-packages (from tensorflow) (1.1.0)\n",
      "Requirement already satisfied: google-pasta~=0.2 in c:\\users\\marty\\anaconda3\\envs\\time series\\lib\\site-packages (from tensorflow) (0.2.0)\n",
      "Requirement already satisfied: setuptools>=41.0.0 in c:\\users\\marty\\anaconda3\\envs\\time series\\lib\\site-packages (from tensorboard~=2.6->tensorflow) (52.0.0.post20210125)\n",
      "Requirement already satisfied: tensorboard-data-server<0.7.0,>=0.6.0 in c:\\users\\marty\\anaconda3\\envs\\time series\\lib\\site-packages (from tensorboard~=2.6->tensorflow) (0.6.1)\n",
      "Requirement already satisfied: google-auth<2,>=1.6.3 in c:\\users\\marty\\anaconda3\\envs\\time series\\lib\\site-packages (from tensorboard~=2.6->tensorflow) (1.35.0)\n",
      "Requirement already satisfied: google-auth-oauthlib<0.5,>=0.4.1 in c:\\users\\marty\\anaconda3\\envs\\time series\\lib\\site-packages (from tensorboard~=2.6->tensorflow) (0.4.6)\n",
      "Requirement already satisfied: tensorboard-plugin-wit>=1.6.0 in c:\\users\\marty\\anaconda3\\envs\\time series\\lib\\site-packages (from tensorboard~=2.6->tensorflow) (1.8.0)\n",
      "Requirement already satisfied: markdown>=2.6.8 in c:\\users\\marty\\anaconda3\\envs\\time series\\lib\\site-packages (from tensorboard~=2.6->tensorflow) (3.3.4)\n",
      "Requirement already satisfied: werkzeug>=0.11.15 in c:\\users\\marty\\appdata\\roaming\\python\\python38\\site-packages (from tensorboard~=2.6->tensorflow) (2.0.1)\n",
      "Requirement already satisfied: requests<3,>=2.21.0 in c:\\users\\marty\\anaconda3\\envs\\time series\\lib\\site-packages (from tensorboard~=2.6->tensorflow) (2.26.0)\n",
      "Requirement already satisfied: cachetools<5.0,>=2.0.0 in c:\\users\\marty\\anaconda3\\envs\\time series\\lib\\site-packages (from google-auth<2,>=1.6.3->tensorboard~=2.6->tensorflow) (4.2.2)\n",
      "Requirement already satisfied: pyasn1-modules>=0.2.1 in c:\\users\\marty\\anaconda3\\envs\\time series\\lib\\site-packages (from google-auth<2,>=1.6.3->tensorboard~=2.6->tensorflow) (0.2.8)\n",
      "Requirement already satisfied: rsa<5,>=3.1.4 in c:\\users\\marty\\anaconda3\\envs\\time series\\lib\\site-packages (from google-auth<2,>=1.6.3->tensorboard~=2.6->tensorflow) (4.7.2)\n",
      "Requirement already satisfied: requests-oauthlib>=0.7.0 in c:\\users\\marty\\anaconda3\\envs\\time series\\lib\\site-packages (from google-auth-oauthlib<0.5,>=0.4.1->tensorboard~=2.6->tensorflow) (1.3.0)\n",
      "Requirement already satisfied: pyasn1<0.5.0,>=0.4.6 in c:\\users\\marty\\anaconda3\\envs\\time series\\lib\\site-packages (from pyasn1-modules>=0.2.1->google-auth<2,>=1.6.3->tensorboard~=2.6->tensorflow) (0.4.8)\n",
      "Requirement already satisfied: charset-normalizer~=2.0.0 in c:\\users\\marty\\anaconda3\\envs\\time series\\lib\\site-packages (from requests<3,>=2.21.0->tensorboard~=2.6->tensorflow) (2.0.4)\n",
      "Requirement already satisfied: certifi>=2017.4.17 in c:\\users\\marty\\anaconda3\\envs\\time series\\lib\\site-packages (from requests<3,>=2.21.0->tensorboard~=2.6->tensorflow) (2021.5.30)\n",
      "Requirement already satisfied: urllib3<1.27,>=1.21.1 in c:\\users\\marty\\anaconda3\\envs\\time series\\lib\\site-packages (from requests<3,>=2.21.0->tensorboard~=2.6->tensorflow) (1.26.6)\n",
      "Requirement already satisfied: idna<4,>=2.5 in c:\\users\\marty\\anaconda3\\envs\\time series\\lib\\site-packages (from requests<3,>=2.21.0->tensorboard~=2.6->tensorflow) (3.2)\n",
      "Requirement already satisfied: oauthlib>=3.0.0 in c:\\users\\marty\\anaconda3\\envs\\time series\\lib\\site-packages (from requests-oauthlib>=0.7.0->google-auth-oauthlib<0.5,>=0.4.1->tensorboard~=2.6->tensorflow) (3.1.1)\n"
     ]
    }
   ],
   "source": [
    "!pip install numpy scipy matplotlib scikit-learn pandas tensorflow keras"
   ]
  },
  {
   "cell_type": "markdown",
   "metadata": {},
   "source": [
    "We load a few packages that are useful for solvign this lab assignment."
   ]
  },
  {
   "cell_type": "code",
   "execution_count": 4,
   "metadata": {},
   "outputs": [],
   "source": [
    "import pandas as pd  # Loading data / handling data frames\n",
    "import numpy as np\n",
    "import matplotlib.pyplot as plt\n",
    "from sklearn import linear_model as lm  # Used for solving linear regression problems\n",
    "from sklearn.neural_network import MLPRegressor # Used for NAR model\n",
    "\n",
    "from tssltools_lab1 import acf, acfplot # Module available in LISAM - Used for plotting ACF"
   ]
  },
  {
   "cell_type": "markdown",
   "metadata": {},
   "source": [
    "## 1.1 Loading, plotting and detrending data"
   ]
  },
  {
   "cell_type": "markdown",
   "metadata": {},
   "source": [
    "In this lab we will build autoregressive models for a data set corresponding to the Global Mean Sea Level (GMSL) over the past few decades. The data is taken from https://climate.nasa.gov/vital-signs/sea-level/ and is available on LISAM in the file `sealevel.csv`."
   ]
  },
  {
   "cell_type": "markdown",
   "metadata": {},
   "source": [
    "**Q1**: Load the data and plot the GMSL versus time. How many observations are there in total in this data set?\n",
    "\n",
    "_Hint:_ With pandas you can use the function `pandas.read_csv` to read the csv file into a data frame. Plotting the time series can be done using `pyplot`. Note that the sea level data is stored in the 'GMSL' column and the time when each data point was recorded is stored in the column 'Year'."
   ]
  },
  {
   "cell_type": "markdown",
   "metadata": {},
   "source": [
    "**A1**:"
   ]
  },
  {
   "cell_type": "code",
   "execution_count": 15,
   "metadata": {},
   "outputs": [
    {
     "data": {
      "text/plain": [
       "<AxesSubplot:xlabel='Year'>"
      ]
     },
     "execution_count": 15,
     "metadata": {},
     "output_type": "execute_result"
    },
    {
     "data": {
      "image/png": "[encoded data removed]",
      "text/plain": [
       "<Figure size 432x288 with 1 Axes>"
      ]
     },
     "metadata": {
      "needs_background": "light"
     },
     "output_type": "display_data"
    }
   ],
   "source": [
    "data = pd.read_csv(\"sealevel.csv\")\n",
    "data_cleaned = data.loc[:,[\"Year\", \"GMSL\"]]\n",
    "data_cleaned.plot(x = \"Year\", y = \"GMSL\")"
   ]
  },
  {
   "cell_type": "markdown",
   "metadata": {},
   "source": [
    "**Q2**: The data has a clear upward trend. Before fitting an AR model to this data need to remove this trend. Explain, using one or two sentences, why this is necessary."
   ]
  },
  {
   "cell_type": "markdown",
   "metadata": {},
   "source": [
    "**A2:**"
   ]
  },
  {
   "cell_type": "code",
   "execution_count": null,
   "metadata": {},
   "outputs": [],
   "source": []
  },
  {
   "cell_type": "markdown",
   "metadata": {},
   "source": [
    "**Q3** Detrend the data following these steps:\n",
    "1. Fit a straight line, $\\mu_t=\\theta_0 + \\theta_1 u_t $ to the data based on the method of least squares. Here, $u_t$ is the time point when obervation $t$ was recorded.\n",
    "\n",
    "    _Hint:_ You can use `lm.LinearRegression().fit(...)` from scikit-learn. Note that the inputs need to be passed as a 2D array.\n",
    "\n",
    "    Before going on to the next step, plot your fitted line and the data in one figure.\n",
    "\n",
    "\n",
    "2. Subtract the fitted line from $y_t$ for the whole data series and plot the deviations from the straight line.\n",
    "\n",
    "**From now, we will use the detrended data in all parts of the lab.**\n",
    "\n",
    "_Note:_ The GMSL data is recorded at regular time intervals, so that $u_{t+1} - u_t = $ const. Therefore, you can just as well use $t$ directly in the linear regression function if you prefer, $\\mu_t=\\theta_0 + \\theta_1 t $."
   ]
  },
  {
   "cell_type": "markdown",
   "metadata": {},
   "source": [
    "**A3:**"
   ]
  },
  {
   "cell_type": "code",
   "execution_count": 25,
   "metadata": {},
   "outputs": [
    {
     "data": {
      "image/png": "[encoded data removed]",
      "text/plain": [
       "<Figure size 432x288 with 1 Axes>"
      ]
     },
     "metadata": {
      "needs_background": "light"
     },
     "output_type": "display_data"
    }
   ],
   "source": [
    "model = lm.LinearRegression().fit(X = data_cleaned[[\"Year\"]], y = data_cleaned[[\"GMSL\"]])\n",
    "predictions = model.predict(data_cleaned[[\"Year\"]])\n",
    "\n",
    "plt.plot(data_cleaned[[\"Year\"]], predictions, label = \"Linear regression\")\n",
    "plt.plot(data_cleaned[[\"Year\"]], data_cleaned[[\"GMSL\"]], label = \"data\")\n",
    "plt.legend()\n",
    "plt.show()\n"
   ]
  },
  {
   "cell_type": "code",
   "execution_count": 29,
   "metadata": {},
   "outputs": [],
   "source": [
    "residuals = data_cleaned[[\"GMSL\"]] - predictions\n",
    "residuals.rename(columns={\"GMSL\":\"GMSL residuals\"}, inplace = True)"
   ]
  },
  {
   "cell_type": "code",
   "execution_count": 30,
   "metadata": {},
   "outputs": [
    {
     "data": {
      "text/plain": [
       "<AxesSubplot:>"
      ]
     },
     "execution_count": 30,
     "metadata": {},
     "output_type": "execute_result"
    },
    {
     "data": {
      "image/png": "[encoded data removed]",
      "text/plain": [
       "<Figure size 432x288 with 1 Axes>"
      ]
     },
     "metadata": {
      "needs_background": "light"
     },
     "output_type": "display_data"
    }
   ],
   "source": [
    "residuals.plot()"
   ]
  },
  {
   "cell_type": "markdown",
   "metadata": {},
   "source": [
    "**Q4:** Split the (detrended) time series into training and validation sets. Use the values from the beginning up to the 700th time point (i.e. $y_t$ for $t=1$ to $t=700$) as your training data, and the rest of the values as your validation data. Plot the two data sets.\n",
    "\n",
    "_Note:_ In the above, we have allowed ourselves to use all the available data (train + validation) when detrending. An alternative would be to use only the training data also when detrending the model. The latter approach is more suitable if, either:\n",
    "* we view the linear detrending as part of the model choice. Perhaps we wish to compare different polynomial trend models, and evaluate their performance on the validation data, or\n",
    "* we wish to use the second chunk of observations to estimate the performance of the final model on unseen data (in that case it is often referred to as \"test data\" instead of \"validation data\"), in which case we should not use these observations when fitting the model, including the detrending step.\n",
    "\n",
    "In this laboration we consider the linear detrending as a predetermined preprocessing step and therefore allow ourselves to use the validation data when computing the linear trend."
   ]
  },
  {
   "cell_type": "markdown",
   "metadata": {},
   "source": [
    "**A4:**"
   ]
  },
  {
   "cell_type": "code",
   "execution_count": 36,
   "metadata": {},
   "outputs": [
    {
     "name": "stdout",
     "output_type": "stream",
     "text": [
      "train data samples: 700, test data samples 296\n"
     ]
    }
   ],
   "source": [
    "train = residuals.iloc[0:700,:]\n",
    "test = residuals.iloc[701:len(residuals),:]\n",
    "print(\"train data samples: {0}, test data samples {1}\".format(len(train), len(test)))"
   ]
  },
  {
   "cell_type": "markdown",
   "metadata": {},
   "source": [
    "## 1.2 Fit an autoregressive model\n",
    "We will now fit an AR$(p)$ model to the training data for a given value of the model order $p$."
   ]
  },
  {
   "cell_type": "markdown",
   "metadata": {},
   "source": [
    "**Q5**: Create a function that fits an AR$(p)$ model for an arbitrary value of p. Use this function to fit a model of order $p=10$ to the training data and write out (or plot) the coefficients.\n",
    "\n",
    "_Hint:_ Since fitting an AR model is essentially just a standard linear regression we can make use of `lm.LinearRegression().fit(...)` similarly to above. You may use the template below and simply fill in the missing code."
   ]
  },
  {
   "cell_type": "markdown",
   "metadata": {},
   "source": [
    "**A5:**"
   ]
  },
  {
   "cell_type": "code",
   "execution_count": 41,
   "metadata": {},
   "outputs": [],
   "source": [
    "def fit_ar(y, p):\n",
    "    \"\"\"Fits an AR(p) model. The loss function is the sum of squared errors from t=p+1 to t=n.\n",
    "\n",
    "    :param y: array (n,), training data points\n",
    "    :param p: int, AR model order\n",
    "    :return theta: array (p,), learnt AR coefficients\n",
    "    \"\"\"\n",
    "\n",
    "    # Number of training data points\n",
    "    n = len(y)\n",
    "    \n",
    "    # Construct the regression matrix\n",
    "    Phi = np.zeros((n-p,p))\n",
    "    for j in range(p):\n",
    "        Phi[:,j] = y[leny-p+j, ]\n",
    "    \n",
    "    # Drop the first p values from the target vector y\n",
    "    yy = y[p:]  # yy = (y_{t+p+1}, ..., y_n)\n",
    "\n",
    "    # Here we use fit_intercept=False since we do not want to include an intercept term in the AR model\n",
    "    regr = lm.LinearRegression(fit_intercept=False)\n",
    "    regr.fit(Phi,yy)    \n",
    "\n",
    "    return regr.coef_"
   ]
  },
  {
   "cell_type": "code",
   "execution_count": 43,
   "metadata": {},
   "outputs": [],
   "source": [
    "fit_ar(train.to_numpy(), 10)"
   ]
  },
  {
   "cell_type": "code",
   "execution_count": null,
   "metadata": {},
   "outputs": [
    {
     "data": {
      "text/plain": [
       "array([[ 1.21671616e+00],\n",
       "       [-1.97651433e+00],\n",
       "       [-1.87974481e+00],\n",
       "       [-3.71297836e+00],\n",
       "       [ 1.23379115e+00],\n",
       "       [ 2.35056067e+00],\n",
       "       [ 1.86733018e+00],\n",
       "       [ 3.17409970e+00],\n",
       "       [ 3.75086921e+00],\n",
       "       [-2.42361272e-01],\n",
       "       [ 1.14440518e+00],\n",
       "       [ 4.45117469e+00],\n",
       "       [ 2.34794421e+00],\n",
       "       [-3.85286276e-01],\n",
       "       [-1.70851676e+00],\n",
       "       [-1.15174725e+00],\n",
       "       [ 1.77501921e+00],\n",
       "       [ 1.60178872e+00],\n",
       "       [ 8.88558236e-01],\n",
       "       [-1.34672249e-01],\n",
       "       [ 7.25209727e+00],\n",
       "       [ 6.48866781e-01],\n",
       "       [ 1.36563630e+00],\n",
       "       [ 5.79240275e+00],\n",
       "       [ 6.79917226e+00],\n",
       "       [ 5.22594178e+00],\n",
       "       [ 3.98271129e+00],\n",
       "       [ 7.20948081e+00],\n",
       "       [ 1.07262503e+01],\n",
       "       [ 8.40301677e+00],\n",
       "       [ 7.85978629e+00],\n",
       "       [ 6.40655580e+00],\n",
       "       [ 5.06332532e+00],\n",
       "       [ 3.25009483e+00],\n",
       "       [ 4.46686435e+00],\n",
       "       [ 9.72363386e+00],\n",
       "       [ 7.20040031e+00],\n",
       "       [ 2.99716983e+00],\n",
       "       [ 5.28393934e+00],\n",
       "       [ 6.87070886e+00],\n",
       "       [ 1.26747837e+00],\n",
       "       [-1.86575211e+00],\n",
       "       [-2.78985660e-01],\n",
       "       [ 3.23778386e+00],\n",
       "       [ 1.10455337e+00],\n",
       "       [ 7.76132289e+00],\n",
       "       [ 4.16809240e+00],\n",
       "       [ 4.03486192e+00],\n",
       "       [ 2.80163143e+00],\n",
       "       [ 1.15839788e+00],\n",
       "       [-6.34832603e-01],\n",
       "       [-3.10806309e+00],\n",
       "       [-8.51293573e-01],\n",
       "       [ 1.87547594e+00],\n",
       "       [-5.52775454e+00],\n",
       "       [-2.97098503e+00],\n",
       "       [ 1.25578142e+00],\n",
       "       [ 1.53255094e+00],\n",
       "       [ 1.45932045e+00],\n",
       "       [ 1.60608997e+00],\n",
       "       [ 4.43285948e+00],\n",
       "       [ 5.51962900e+00],\n",
       "       [ 7.70639545e+00],\n",
       "       [ 7.17316496e+00],\n",
       "       [ 6.42993448e+00],\n",
       "       [ 8.28670399e+00],\n",
       "       [ 1.04934735e+01],\n",
       "       [ 8.78024302e+00],\n",
       "       [ 1.42970125e+01],\n",
       "       [ 5.48377899e+00],\n",
       "       [ 2.82054851e+00],\n",
       "       [ 7.28731802e+00],\n",
       "       [ 8.59408754e+00],\n",
       "       [ 9.25085705e+00],\n",
       "       [ 8.52762657e+00],\n",
       "       [ 5.08439302e+00],\n",
       "       [ 9.03116253e+00],\n",
       "       [ 4.08793205e+00],\n",
       "       [-7.55298438e-01],\n",
       "       [ 4.08147108e+00],\n",
       "       [ 4.38824059e+00],\n",
       "       [ 8.09501011e+00],\n",
       "       [ 2.38177656e+00],\n",
       "       [ 1.11854607e+00],\n",
       "       [ 1.86531559e+00],\n",
       "       [ 2.72208510e+00],\n",
       "       [-4.80114538e+00],\n",
       "       [-5.14375867e-01],\n",
       "       [ 1.07239058e+00],\n",
       "       [ 2.51916010e+00],\n",
       "       [-3.74070386e-01],\n",
       "       [-1.70730087e+00],\n",
       "       [ 1.90946864e+00],\n",
       "       [-9.73761841e-01],\n",
       "       [-1.42699233e+00],\n",
       "       [-9.20225875e-01],\n",
       "       [ 2.28654364e+00],\n",
       "       [ 3.47331316e+00],\n",
       "       [ 6.26008267e+00],\n",
       "       [ 7.47685219e+00],\n",
       "       [ 1.39736217e+01],\n",
       "       [ 9.14039122e+00],\n",
       "       [ 7.94715767e+00],\n",
       "       [ 1.86392718e+00],\n",
       "       [ 7.15069670e+00],\n",
       "       [ 7.19746621e+00],\n",
       "       [ 9.22423573e+00],\n",
       "       [-1.50889948e+01],\n",
       "       [ 5.54777169e+00],\n",
       "       [ 1.02145412e+01],\n",
       "       [ 4.15131072e+00],\n",
       "       [ 4.78306957e-01],\n",
       "       [-1.65469681e+00],\n",
       "       [-3.30770057e+00],\n",
       "       [ 3.47929566e+00],\n",
       "       [-2.53708106e-01],\n",
       "       [ 2.39328813e+00],\n",
       "       [-6.79715637e-01],\n",
       "       [ 1.32728060e+00],\n",
       "       [ 7.24276831e-01],\n",
       "       [-1.41872693e+00],\n",
       "       [-2.92173070e+00],\n",
       "       [ 6.35265534e-01],\n",
       "       [ 1.45226483e+00],\n",
       "       [-2.60738934e-01],\n",
       "       [ 1.25625730e+00],\n",
       "       [-1.96746465e-01],\n",
       "       [-4.79975023e+00],\n",
       "       [ 5.77246003e-01],\n",
       "       [ 1.42422377e-02],\n",
       "       [ 1.95123847e+00],\n",
       "       [ 6.02823471e+00],\n",
       "       [ 3.78523094e+00],\n",
       "       [ 2.85222717e+00],\n",
       "       [ 3.41922341e+00],\n",
       "       [ 1.89621964e+00],\n",
       "       [ 5.69321588e+00],\n",
       "       [ 9.92021518e+00],\n",
       "       [ 9.20721141e+00],\n",
       "       [ 2.37420764e+00],\n",
       "       [ 1.15712039e+01],\n",
       "       [ 1.44182001e+01],\n",
       "       [ 1.12051963e+01],\n",
       "       [ 4.79219258e+00],\n",
       "       [ 5.50918882e+00],\n",
       "       [ 5.95618505e+00],\n",
       "       [ 6.43181284e-01],\n",
       "       [-9.09840864e-01],\n",
       "       [ 1.01692865e+00],\n",
       "       [-1.90630183e+00],\n",
       "       [ 4.04676809e-02],\n",
       "       [-6.07276280e+00],\n",
       "       [-2.31599635e+00],\n",
       "       [-2.01922684e+00],\n",
       "       [-2.69245732e+00],\n",
       "       [-1.55687808e-01],\n",
       "       [ 6.61081707e-01],\n",
       "       [ 1.28785122e+00],\n",
       "       [-3.88537926e+00],\n",
       "       [-2.60861281e+00],\n",
       "       [ 8.18156703e-01],\n",
       "       [-2.39507378e+00],\n",
       "       [ 2.32169573e+00],\n",
       "       [-3.43153475e+00],\n",
       "       [-2.55476524e+00],\n",
       "       [-5.77998785e-01],\n",
       "       [-6.71229270e-01],\n",
       "       [ 5.28554024e+00],\n",
       "       [ 3.79230976e+00],\n",
       "       [ 2.49079275e-01],\n",
       "       [ 5.79584879e+00],\n",
       "       [ 8.14261830e+00],\n",
       "       [ 9.33938476e+00],\n",
       "       [ 1.14261543e+01],\n",
       "       [ 1.33229238e+01],\n",
       "       [ 1.72696933e+01],\n",
       "       [ 1.37564628e+01],\n",
       "       [ 1.10432323e+01],\n",
       "       [ 1.32799988e+01],\n",
       "       [ 9.46676830e+00],\n",
       "       [ 7.29353781e+00],\n",
       "       [ 9.09030733e+00],\n",
       "       [ 2.23707684e+00],\n",
       "       [ 3.62384636e+00],\n",
       "       [-9.79384128e-01],\n",
       "       [ 3.09738232e+00],\n",
       "       [-9.55848162e-01],\n",
       "       [ 1.01092135e+00],\n",
       "       [ 1.24769087e+00],\n",
       "       [-2.25539617e-01],\n",
       "       [-1.07877010e+00],\n",
       "       [ 2.03799941e+00],\n",
       "       [ 1.24476586e+00],\n",
       "       [ 1.01535379e-01],\n",
       "       [ 1.83830489e+00],\n",
       "       [ 2.35074409e-01],\n",
       "       [-1.22815608e+00],\n",
       "       [-3.70138656e+00],\n",
       "       [-6.74620109e-01],\n",
       "       [-5.25785059e+00],\n",
       "       [-6.40108108e+00],\n",
       "       [-7.59431156e+00],\n",
       "       [-4.37754205e+00],\n",
       "       [-4.64077253e+00],\n",
       "       [-6.74400302e+00],\n",
       "       [-4.14723657e+00],\n",
       "       [-5.52046705e+00],\n",
       "       [-6.32369754e+00],\n",
       "       [-2.85692802e+00],\n",
       "       [-1.56015851e+00],\n",
       "       [-8.13388993e-01],\n",
       "       [-1.38662254e+00],\n",
       "       [ 3.20146973e-01],\n",
       "       [-5.53083512e-01],\n",
       "       [ 1.17368600e+00],\n",
       "       [ 5.04555181e-02],\n",
       "       [-8.12774967e-01],\n",
       "       [-4.13600545e+00],\n",
       "       [-1.19239001e-01],\n",
       "       [-4.59246949e+00],\n",
       "       [-3.93569997e+00],\n",
       "       [-6.05893046e+00],\n",
       "       [-4.23216094e+00],\n",
       "       [-6.17539143e+00],\n",
       "       [-1.01886250e+01],\n",
       "       [ 8.68144541e-01],\n",
       "       [-2.66508594e+00],\n",
       "       [-1.52831643e+00],\n",
       "       [-3.26154691e+00],\n",
       "       [-1.88477740e+00],\n",
       "       [-3.98800788e+00],\n",
       "       [-2.46124143e+00],\n",
       "       [-6.38447192e+00],\n",
       "       [-5.09770240e+00],\n",
       "       [-3.27093289e+00],\n",
       "       [-6.12416337e+00],\n",
       "       [-6.14739386e+00],\n",
       "       [-9.03062434e+00],\n",
       "       [-6.54385789e+00],\n",
       "       [-5.74708838e+00],\n",
       "       [-4.37031886e+00],\n",
       "       [-5.71354935e+00],\n",
       "       [-4.50677983e+00],\n",
       "       [-4.88001032e+00],\n",
       "       [ 2.36756134e-01],\n",
       "       [-2.03647435e+00],\n",
       "       [ 1.03029516e+00],\n",
       "       [ 3.74706468e+00],\n",
       "       [ 3.58383419e+00],\n",
       "       [ 7.17060371e+00],\n",
       "       [ 5.81737322e+00],\n",
       "       [ 4.78413968e+00],\n",
       "       [ 3.96090919e+00],\n",
       "       [ 4.60767871e+00],\n",
       "       [ 2.44444822e+00],\n",
       "       [ 5.26121774e+00],\n",
       "       [ 3.57798725e+00],\n",
       "       [ 2.79475370e+00],\n",
       "       [-1.00832666e+00],\n",
       "       [ 4.98669576e-01],\n",
       "       [-3.94334190e-01],\n",
       "       [-3.98733796e+00],\n",
       "       [-5.48034172e+00],\n",
       "       [-1.51334549e+00],\n",
       "       [-2.11634925e+00],\n",
       "       [-3.49935302e+00],\n",
       "       [-5.82356784e-01],\n",
       "       [-3.58536055e+00],\n",
       "       [-4.74836432e+00],\n",
       "       [-4.21136808e+00],\n",
       "       [-6.52437185e+00],\n",
       "       [-7.25737561e+00],\n",
       "       [-7.23037631e+00],\n",
       "       [-7.32338008e+00],\n",
       "       [-7.67638385e+00],\n",
       "       [-9.61938761e+00],\n",
       "       [-7.46239138e+00],\n",
       "       [-5.62539514e+00],\n",
       "       [-4.63839891e+00],\n",
       "       [-8.30140267e+00],\n",
       "       [-4.58440644e+00],\n",
       "       [ 3.92589794e-01],\n",
       "       [-1.57041397e+00],\n",
       "       [-1.30341774e+00],\n",
       "       [ 3.83357850e+00],\n",
       "       [ 6.38057473e+00],\n",
       "       [ 6.32757403e+00],\n",
       "       [ 4.71457026e+00],\n",
       "       [ 1.41815665e+01],\n",
       "       [ 5.54856273e+00],\n",
       "       [ 2.82555897e+00],\n",
       "       [ 1.51255520e+00],\n",
       "       [-6.70448565e-01],\n",
       "       [-2.08345233e+00],\n",
       "       [ 3.73543903e-01],\n",
       "       [-2.01962837e+00],\n",
       "       [ 4.57141145e-01],\n",
       "       [-2.89608934e+00],\n",
       "       [-1.83931983e+00],\n",
       "       [-4.27255031e+00],\n",
       "       [-4.85780795e-01],\n",
       "       [ 2.62098566e+00],\n",
       "       [-4.42224483e+00],\n",
       "       [-1.03547531e+00],\n",
       "       [-2.21870580e+00],\n",
       "       [ 2.38063716e-01],\n",
       "       [-1.95516677e+00],\n",
       "       [-4.34839725e+00],\n",
       "       [-5.47163080e+00],\n",
       "       [-5.37486129e+00],\n",
       "       [-6.07809177e+00],\n",
       "       [-6.48132226e+00],\n",
       "       [-2.57455274e+00],\n",
       "       [-8.37783228e-01],\n",
       "       [ 4.58986287e-01],\n",
       "       [-3.39424726e+00],\n",
       "       [ 1.42252225e+00],\n",
       "       [-1.00708231e-01],\n",
       "       [ 5.36061284e-01],\n",
       "       [ 3.28283080e+00],\n",
       "       [ 8.28960031e+00],\n",
       "       [ 8.79636676e+00],\n",
       "       [ 1.06131363e+01],\n",
       "       [ 5.84990579e+00],\n",
       "       [ 2.33667531e+00],\n",
       "       [ 6.76344482e+00],\n",
       "       [ 8.75021434e+00],\n",
       "       [ 4.35698385e+00],\n",
       "       [ 2.12375031e+00],\n",
       "       [-9.94801790e-02],\n",
       "       [ 3.77289336e-01],\n",
       "       [ 9.74058851e-01],\n",
       "       [-3.43917163e+00],\n",
       "       [-2.36240212e+00],\n",
       "       [ 8.54364332e-01],\n",
       "       [-1.60886615e+00],\n",
       "       [-1.20209664e+00],\n",
       "       [ 1.92467288e+00],\n",
       "       [-4.36855761e+00],\n",
       "       [-4.16178809e+00],\n",
       "       [-2.82501858e+00],\n",
       "       [-8.48252127e-01],\n",
       "       [-5.63148261e+00],\n",
       "       [-4.29471310e+00],\n",
       "       [-5.87794358e+00],\n",
       "       [-4.27117407e+00],\n",
       "       [-5.23440455e+00],\n",
       "       [-9.29763810e+00],\n",
       "       [-8.32086859e+00],\n",
       "       [-3.64409907e+00],\n",
       "       [-4.26732956e+00],\n",
       "       [-1.71056004e+00],\n",
       "       [ 2.76209475e-01],\n",
       "       [ 2.17297899e+00],\n",
       "       [ 5.03974544e+00],\n",
       "       [ 2.26651496e+00],\n",
       "       [ 3.45328447e+00],\n",
       "       [ 4.56005399e+00],\n",
       "       [ 6.43682350e+00],\n",
       "       [ 4.89359302e+00],\n",
       "       [ 7.38036253e+00],\n",
       "       [ 1.12871290e+01],\n",
       "       [ 6.36389850e+00],\n",
       "       [ 6.80066801e+00],\n",
       "       [ 5.25743753e+00],\n",
       "       [ 2.69420704e+00],\n",
       "       [ 2.33097656e+00],\n",
       "       [ 2.20774301e+00],\n",
       "       [-3.54874767e-02],\n",
       "       [-2.62871796e+00],\n",
       "       [ 3.14805155e+00],\n",
       "       [ 2.07482107e+00],\n",
       "       [ 3.42159058e+00],\n",
       "       [-2.20163990e+00],\n",
       "       [-2.29487345e+00],\n",
       "       [-1.52810394e+00],\n",
       "       [-3.51334420e-01],\n",
       "       [-3.34564905e-01],\n",
       "       [-1.12779539e+00],\n",
       "       [-2.32102588e+00],\n",
       "       [-3.39425942e+00],\n",
       "       [-3.55748991e+00],\n",
       "       [-2.75072039e+00],\n",
       "       [-4.05395088e+00],\n",
       "       [-7.09718136e+00],\n",
       "       [-4.19041185e+00],\n",
       "       [-6.05364233e+00],\n",
       "       [-3.98687588e+00],\n",
       "       [-1.69010637e+00],\n",
       "       [-2.90333685e+00],\n",
       "       [-4.66567338e-01],\n",
       "       [-2.30979782e+00],\n",
       "       [ 3.57697169e+00],\n",
       "       [ 4.71373814e+00],\n",
       "       [ 3.60050766e+00],\n",
       "       [ 5.00727717e+00],\n",
       "       [ 7.11404669e+00],\n",
       "       [ 5.65081620e+00],\n",
       "       [ 9.29758572e+00],\n",
       "       [ 4.05435523e+00],\n",
       "       [ 2.12112168e+00],\n",
       "       [-8.62108801e-01],\n",
       "       [ 3.90466071e+00],\n",
       "       [ 4.12143023e+00],\n",
       "       [ 2.98199744e-01],\n",
       "       [-6.54963338e-01],\n",
       "       [ 3.94203596e+00],\n",
       "       [ 3.09903219e+00],\n",
       "       [-8.03971571e-01],\n",
       "       [-6.67697534e+00],\n",
       "       [-2.96997910e+00],\n",
       "       [-1.23298287e+00],\n",
       "       [-3.02598663e+00],\n",
       "       [-1.84899040e+00],\n",
       "       [-1.20199417e+00],\n",
       "       [-2.97499793e+00],\n",
       "       [-1.39800170e+00],\n",
       "       [-5.90100546e+00],\n",
       "       [-7.30400923e+00],\n",
       "       [-1.02970130e+01],\n",
       "       [-7.27001370e+00],\n",
       "       [-9.02301746e+00],\n",
       "       [-8.38602123e+00],\n",
       "       [-2.70902499e+00],\n",
       "       [-2.96202876e+00],\n",
       "       [-3.86503252e+00],\n",
       "       [-4.86803629e+00],\n",
       "       [-2.81104006e+00],\n",
       "       [ 6.15956178e-01],\n",
       "       [ 1.30295241e+00],\n",
       "       [ 1.59994865e+00],\n",
       "       [ 7.14694488e+00],\n",
       "       [ 3.38394112e+00],\n",
       "       [ 3.91093735e+00],\n",
       "       [ 5.58793665e+00],\n",
       "       [ 2.34493288e+00],\n",
       "       [ 2.56192912e+00],\n",
       "       [ 3.25892535e+00],\n",
       "       [-4.44078415e-01],\n",
       "       [ 3.45291782e+00],\n",
       "       [ 1.92991405e+00],\n",
       "       [ 4.59691029e+00],\n",
       "       [-2.35618233e+00],\n",
       "       [-3.39941281e+00],\n",
       "       [-4.22646361e-01],\n",
       "       [-3.15876846e-01],\n",
       "       [-1.59107331e-01],\n",
       "       [-1.45233782e+00],\n",
       "       [ 2.69443170e+00],\n",
       "       [ 1.39120121e+00],\n",
       "       [-4.74202927e+00],\n",
       "       [-3.24526282e+00],\n",
       "       [ 6.31506695e-01],\n",
       "       [-4.50172379e+00],\n",
       "       [-4.22495427e+00],\n",
       "       [-3.60818476e+00],\n",
       "       [-3.17141524e+00],\n",
       "       [-4.35464879e+00],\n",
       "       [-4.52787928e+00],\n",
       "       [-3.26110976e+00],\n",
       "       [-4.14434025e+00],\n",
       "       [-6.47570734e-01],\n",
       "       [-2.96080122e+00],\n",
       "       [-1.92403170e+00],\n",
       "       [-9.17265253e-01],\n",
       "       [-3.70495738e-01],\n",
       "       [ 1.20627378e+00],\n",
       "       [ 4.05304329e+00],\n",
       "       [ 6.39981281e+00],\n",
       "       [ 5.77658232e+00],\n",
       "       [ 4.98334877e+00],\n",
       "       [ 2.99011829e+00],\n",
       "       [ 4.27688780e+00],\n",
       "       [ 7.12365732e+00],\n",
       "       [ 7.33042683e+00],\n",
       "       [ 6.45719635e+00],\n",
       "       [ 4.27396586e+00],\n",
       "       [ 3.41073231e+00],\n",
       "       [ 2.71750183e+00],\n",
       "       [-1.60572866e+00],\n",
       "       [-3.35895914e+00],\n",
       "       [-2.92218963e+00],\n",
       "       [-3.18542011e+00],\n",
       "       [-4.56865366e+00],\n",
       "       [-3.32188414e+00],\n",
       "       [-1.52511463e+00],\n",
       "       [-7.15834511e+00],\n",
       "       [-4.75157560e+00],\n",
       "       [-4.62480608e+00],\n",
       "       [-5.72803657e+00],\n",
       "       [-7.28127012e+00],\n",
       "       [-7.72450060e+00],\n",
       "       [-5.48773109e+00],\n",
       "       [-4.02096157e+00],\n",
       "       [-6.62419206e+00],\n",
       "       [-6.08742254e+00],\n",
       "       [-5.13065303e+00],\n",
       "       [-2.68388658e+00],\n",
       "       [-1.25711706e+00],\n",
       "       [-2.15034755e+00],\n",
       "       [-1.86357803e+00],\n",
       "       [-4.13680852e+00],\n",
       "       [-1.53003900e+00],\n",
       "       [ 2.01672745e+00],\n",
       "       [ 4.70349696e+00],\n",
       "       [ 6.90026648e+00],\n",
       "       [ 3.07703599e+00],\n",
       "       [ 3.00380551e+00],\n",
       "       [ 5.94057502e+00],\n",
       "       [ 5.79734454e+00],\n",
       "       [ 5.10911252e+00],\n",
       "       [ 4.42088051e+00],\n",
       "       [-6.32349979e-01],\n",
       "       [ 2.34441954e+00],\n",
       "       [-7.48810949e-01],\n",
       "       [-1.22204143e+00],\n",
       "       [-2.45527498e+00],\n",
       "       [-3.77850547e+00],\n",
       "       [-4.67173595e+00],\n",
       "       [-5.64496644e+00],\n",
       "       [-5.31819692e+00],\n",
       "       [-1.75142741e+00],\n",
       "       [-5.06465789e+00],\n",
       "       [-5.02789144e+00],\n",
       "       [-6.59112193e+00],\n",
       "       [-3.54435241e+00],\n",
       "       [-4.05758290e+00],\n",
       "       [-5.13081338e+00],\n",
       "       [-1.01240439e+01],\n",
       "       [-7.14727742e+00],\n",
       "       [-7.45050790e+00],\n",
       "       [-8.09373839e+00],\n",
       "       [-8.58696887e+00],\n",
       "       [-7.14019936e+00],\n",
       "       [-7.31342984e+00],\n",
       "       [-7.72666033e+00],\n",
       "       [-9.04989387e+00],\n",
       "       [-7.27312436e+00],\n",
       "       [-1.28635484e+00],\n",
       "       [-4.30958533e+00],\n",
       "       [-5.09281581e+00],\n",
       "       [-4.28604630e+00],\n",
       "       [-1.59276784e-01],\n",
       "       [-1.04251033e+00],\n",
       "       [-1.49574082e+00],\n",
       "       [ 1.03102870e+00],\n",
       "       [-7.22017878e-02],\n",
       "       [ 1.68456773e+00],\n",
       "       [ 3.73133724e+00],\n",
       "       [ 1.66810369e+00],\n",
       "       [-8.75126792e-01],\n",
       "       [-6.73835728e+00],\n",
       "       [-6.57158776e+00],\n",
       "       [-5.73460072e+00],\n",
       "       [-4.75760448e+00],\n",
       "       [-6.79060519e+00],\n",
       "       [-1.05136090e+01],\n",
       "       [-6.81661272e+00],\n",
       "       [-9.30961648e+00],\n",
       "       [-7.16262025e+00],\n",
       "       [-6.57562401e+00],\n",
       "       [-9.32862778e+00],\n",
       "       [-9.70163155e+00],\n",
       "       [-1.03946353e+01],\n",
       "       [-1.30476391e+01],\n",
       "       [-1.21406428e+01],\n",
       "       [-7.10364661e+00],\n",
       "       [-4.99665037e+00],\n",
       "       [-6.02965414e+00],\n",
       "       [-5.86265484e+00],\n",
       "       [-5.46565861e+00],\n",
       "       [-5.83866237e+00],\n",
       "       [-6.19166614e+00],\n",
       "       [-5.20466991e+00],\n",
       "       [-5.56767367e+00],\n",
       "       [-3.35067744e+00],\n",
       "       [-3.06368120e+00],\n",
       "       [-1.33668497e+00],\n",
       "       [-1.88968873e+00],\n",
       "       [-9.26924999e-02],\n",
       "       [ 4.94303734e-01],\n",
       "       [ 1.85129997e+00],\n",
       "       [ 2.09829620e+00],\n",
       "       [ 2.35295501e-01],\n",
       "       [ 7.22291735e-01],\n",
       "       [-8.10712030e-01],\n",
       "       [ 3.76628420e+00],\n",
       "       [-1.09671956e+00],\n",
       "       [-5.53972333e+00],\n",
       "       [-4.39273935e+00],\n",
       "       [-5.06596983e+00],\n",
       "       [-5.09920032e+00],\n",
       "       [-7.22243080e+00],\n",
       "       [-8.33566435e+00],\n",
       "       [-6.40889484e+00],\n",
       "       [-6.17212532e+00],\n",
       "       [-5.97535581e+00],\n",
       "       [-4.97858629e+00],\n",
       "       [-6.09181678e+00],\n",
       "       [-6.47504726e+00],\n",
       "       [-7.36828081e+00],\n",
       "       [-7.89151130e+00],\n",
       "       [-7.13474178e+00],\n",
       "       [-8.42797227e+00],\n",
       "       [-9.97120275e+00],\n",
       "       [-8.32443324e+00],\n",
       "       [-7.02766678e+00],\n",
       "       [-8.76089727e+00],\n",
       "       [-9.89412775e+00],\n",
       "       [-6.77735824e+00],\n",
       "       [-2.10058872e+00],\n",
       "       [-3.73381921e+00],\n",
       "       [-2.91704969e+00],\n",
       "       [-7.00283244e-01],\n",
       "       [ 1.97648627e+00],\n",
       "       [ 4.95325579e+00],\n",
       "       [ 4.92002530e+00],\n",
       "       [ 4.57679482e+00],\n",
       "       [ 5.52356433e+00],\n",
       "       [ 6.64033385e+00],\n",
       "       [ 6.94710030e+00],\n",
       "       [ 2.44386981e+00],\n",
       "       [ 4.39063933e+00],\n",
       "       [ 2.26740884e+00],\n",
       "       [-1.99582164e+00],\n",
       "       [ 1.56094787e+00],\n",
       "       [-2.38228568e+00],\n",
       "       [-3.31551616e+00],\n",
       "       [-5.57874665e+00],\n",
       "       [-8.67197713e+00],\n",
       "       [-4.69520762e+00],\n",
       "       [-1.13843810e+00],\n",
       "       [ 4.88331414e-01],\n",
       "       [-6.98490213e+00],\n",
       "       [-6.73813262e+00],\n",
       "       [-7.17136310e+00],\n",
       "       [-5.52459359e+00],\n",
       "       [-5.75782407e+00],\n",
       "       [-7.29105456e+00],\n",
       "       [-7.16428811e+00],\n",
       "       [-4.11751859e+00],\n",
       "       [-5.25074908e+00],\n",
       "       [-5.14397956e+00],\n",
       "       [-4.35721005e+00],\n",
       "       [-4.97044053e+00],\n",
       "       [-6.41367102e+00],\n",
       "       [-4.89690457e+00],\n",
       "       [-5.00013505e+00],\n",
       "       [-6.54336554e+00],\n",
       "       [-4.48659602e+00],\n",
       "       [-6.90982651e+00],\n",
       "       [-3.96305699e+00],\n",
       "       [-3.03629054e+00],\n",
       "       [-3.40952103e+00],\n",
       "       [-3.99275151e+00],\n",
       "       [-3.45981996e-01],\n",
       "       [-1.42921248e+00],\n",
       "       [-3.24244297e+00],\n",
       "       [-3.52567345e+00],\n",
       "       [-7.72890700e+00],\n",
       "       [-7.69213748e+00],\n",
       "       [-8.90536797e+00],\n",
       "       [-7.42859845e+00],\n",
       "       [-1.01618289e+01],\n",
       "       [-1.05850594e+01],\n",
       "       [-1.07582930e+01],\n",
       "       [-1.19915235e+01],\n",
       "       [-1.25447539e+01],\n",
       "       [-1.22479844e+01],\n",
       "       [-1.29812149e+01],\n",
       "       [-1.29444454e+01],\n",
       "       [-1.76476759e+01],\n",
       "       [-1.43509094e+01],\n",
       "       [-1.39641399e+01],\n",
       "       [-1.52873704e+01],\n",
       "       [-1.79606009e+01],\n",
       "       [-1.35538314e+01],\n",
       "       [-1.30970619e+01],\n",
       "       [-1.49702923e+01],\n",
       "       [-1.22035259e+01],\n",
       "       [-9.49675638e+00],\n",
       "       [-1.23199869e+01],\n",
       "       [-1.25532173e+01],\n",
       "       [-1.22764478e+01],\n",
       "       [-9.82967832e+00],\n",
       "       [-5.95291187e+00],\n",
       "       [-4.87614235e+00],\n",
       "       [-2.86937284e+00],\n",
       "       [-3.71260332e+00],\n",
       "       [-5.05583381e+00],\n",
       "       [-2.41906429e+00],\n",
       "       [ 7.77052249e-02],\n",
       "       [ 1.72447168e+00],\n",
       "       [-3.02875881e+00],\n",
       "       [-5.53198929e+00],\n",
       "       [-4.76521978e+00],\n",
       "       [-1.99845026e+00],\n",
       "       [-4.54168075e+00],\n",
       "       [-4.48491430e+00],\n",
       "       [-5.39814478e+00]])"
      ]
     },
     "execution_count": 44,
     "metadata": {},
     "output_type": "execute_result"
    }
   ],
   "source": [
    "train.to_numpy()"
   ]
  },
  {
   "cell_type": "code",
   "execution_count": null,
   "metadata": {},
   "outputs": [],
   "source": []
  },
  {
   "cell_type": "markdown",
   "metadata": {},
   "source": [
    "**Q6:** Next, write a function that computes the one-step-ahead prediction of your fitted model. 'One-step-ahead' here means that in order to predict $y_t$ at $t=t_0$, we use the actual values of $y_t$ for $t<t_0$ from the data. Use your function to compute the predictions for both *training data* and *validation data*. Plot the predictions together with the data (you can plot both training and validation data in the same figure). Also plot the *residuals*.\n",
    "\n",
    "_Hint:_ It is enought to call the predict function once, for both training and validation data at the same time."
   ]
  },
  {
   "cell_type": "markdown",
   "metadata": {},
   "source": [
    "**A6:**"
   ]
  },
  {
   "cell_type": "code",
   "execution_count": null,
   "metadata": {},
   "outputs": [],
   "source": [
    "def predict_ar_1step(theta, y_target):\n",
    "    \"\"\"Predicts the value y_t for t = p+1, ..., n, for an AR(p) model, based on the data in y_target using\n",
    "    one-step-ahead prediction.\n",
    "\n",
    "    :param theta: array (p,), AR coefficients, theta=(a1,a2,...,ap).\n",
    "    :param y_target: array (n,), the data points used to compute the predictions.\n",
    "    :return y_pred: array (n-p,), the one-step predictions (\\hat y_{p+1}, ...., \\hat y_n) \n",
    "    \"\"\"\n",
    "\n",
    "    n = len(y_target)\n",
    "    p = len(theta)\n",
    "    \n",
    "    # Number of steps in prediction\n",
    "    m = n-p\n",
    "    y_pred = np.zeros(m)\n",
    "    \n",
    "    for i in range(m):\n",
    "        # <COMPLETE THIS CODE BLOCK>\n",
    "        y_pred[i] = ... # <COMPLETE THIS LINE>\n",
    "        \n",
    "    return y_pred"
   ]
  },
  {
   "cell_type": "code",
   "execution_count": null,
   "metadata": {},
   "outputs": [],
   "source": []
  },
  {
   "cell_type": "markdown",
   "metadata": {},
   "source": [
    "**Q7:** Compute and plot the autocorrelation function (ACF) of the *residuals* only for the *validation data*. What conclusions can you draw from the ACF plot?\n",
    "\n",
    "_Hint:_ You can use the function `acfplot` from the `tssltools` module, available on the course web page."
   ]
  },
  {
   "cell_type": "markdown",
   "metadata": {},
   "source": [
    "**A7:**"
   ]
  },
  {
   "cell_type": "code",
   "execution_count": null,
   "metadata": {},
   "outputs": [
    {
     "name": "stdout",
     "output_type": "stream",
     "text": [
      "Help on function acfplot in module tssltools_lab1:\n",
      "\n",
      "acfplot(x, lags=None, conf=0.95)\n",
      "    Plots the empirical autocorralation function.\n",
      "    \n",
      "    :param x: array (n,), sequence of data points\n",
      "    :param lags: int, maximum lag to compute the ACF for. If None, this is set to n-1. Default is None.\n",
      "    :param conf: float, number in the interval [0,1] which specifies the confidence level (based on a central limit\n",
      "                 theorem under a white noise assumption) for two dashed lines drawn in the plot. Default is 0.95.\n",
      "    :return:\n",
      "\n"
     ]
    }
   ],
   "source": [
    "help(acfplot)"
   ]
  },
  {
   "cell_type": "markdown",
   "metadata": {},
   "source": []
  },
  {
   "cell_type": "markdown",
   "metadata": {},
   "source": [
    "## 1.3 Model validation and order selection\n",
    "Above we set the model order $p=10$ quite arbitrarily. In this section we will try to find an appropriate order by validation."
   ]
  },
  {
   "cell_type": "markdown",
   "metadata": {},
   "source": [
    "**Q8**: Write a loop in which AR-models of orders from $p=2$ to $p=150$ are fitted to the data above. Plot the training and validation mean-squared errors for the one-step-ahead predictions versus the model order.\n",
    "\n",
    "Based on your results:\n",
    "- What is the main difference between the changes in training error and validation error as the order increases? \n",
    "- Based on these results, which model order would you suggest to use and why?\n",
    "\n",
    "_Note:_ There is no obvious \"correct answer\" to the second question, but you still need to pick an order an motivate your choice!\n"
   ]
  },
  {
   "cell_type": "markdown",
   "metadata": {},
   "source": [
    "**A8:**"
   ]
  },
  {
   "cell_type": "code",
   "execution_count": null,
   "metadata": {},
   "outputs": [],
   "source": []
  },
  {
   "cell_type": "markdown",
   "metadata": {},
   "source": []
  },
  {
   "cell_type": "markdown",
   "metadata": {},
   "source": [
    "**Q9:** Based on the chosen model order, compute the residuals of the one-step-ahead predictions on the *validation data*. Plot the autocorrelation function of the residuals. What conclusions can you draw? Compare to the ACF plot generated above for p=10."
   ]
  },
  {
   "cell_type": "code",
   "execution_count": null,
   "metadata": {},
   "outputs": [],
   "source": []
  },
  {
   "cell_type": "markdown",
   "metadata": {},
   "source": []
  },
  {
   "cell_type": "markdown",
   "metadata": {},
   "source": [
    "## 1.4 Long-range predictions\n",
    "So far we have only considered one-step-ahead predictions. However, in many practical applications it is of interest to use the model to predict further into the future. For intance, for the sea level data studied in this laboration, it is more interesting to predict the level one year from now, and not just 10 days ahead (10 days = 1 time step in this data)."
   ]
  },
  {
   "cell_type": "markdown",
   "metadata": {},
   "source": [
    "**Q10**: \n",
    "Write a function that simulates the value of an AR($p$) model $m$ steps into the future, conditionally on an initial sequence of data points. Specifically, given $y_{1:n}$ with $n\\geq p$ the function/code should predict the values\n",
    "\n",
    "\\begin{align}\n",
    "    \\hat y_{t|n} &= \\mathbb{E}[y_{t} | y_{1:n}], & t&=n+1,\\dots,n+m.\n",
    "\\end{align}\n",
    "\n",
    "Use this to predict the values for the validation data ($y_{701:997}$) conditionally on the training data ($y_{1:700}$) and plot the result.\n",
    "\n",
    "_Hint:_ Use the pseudo-code derived at the first pen-and-paper session."
   ]
  },
  {
   "cell_type": "markdown",
   "metadata": {},
   "source": [
    "**A10:**"
   ]
  },
  {
   "cell_type": "code",
   "execution_count": null,
   "metadata": {},
   "outputs": [],
   "source": [
    "def simulate_ar(y, theta, m):\n",
    "    \"\"\"Simulates an AR(p) model for m steps, with initial condition given by the last p values of y\n",
    "    \n",
    "    :param y: array (n,) with n>=p. The last p values are used to initialize the simulation.\n",
    "    :param theta: array (p,). AR model parameters,\n",
    "    :param m: int, number of time steps to simulate the model for.\n",
    "    \"\"\"\n",
    "\n",
    "    p = len(theta)    \n",
    "    y_sim = np.zeros(m)\n",
    "    phi = np.flip(y[-p:].copy()) # (y_{n-1}, ..., y_{n-p})^T - note that y[ntrain-1] is the last training data point\n",
    "\n",
    "    for i in range(m):\n",
    "        y_sim[i] = ... # <COMPLETE THIS LINE>\n",
    "        # <COMPLETE THIS CODE BLOCK>\n",
    "    \n",
    "    return y_sim\n",
    "    "
   ]
  },
  {
   "cell_type": "code",
   "execution_count": null,
   "metadata": {},
   "outputs": [],
   "source": []
  },
  {
   "cell_type": "markdown",
   "metadata": {},
   "source": [
    "**Q11:** Using the same function as above, try to simulate the process for a large number of time steps (say, $m=2000$). You should see that the predicted values eventually converge to a constant prediction of zero. Is this something that you would expect to see in general? Explain the result."
   ]
  },
  {
   "cell_type": "markdown",
   "metadata": {},
   "source": [
    "**A11:**"
   ]
  },
  {
   "cell_type": "code",
   "execution_count": null,
   "metadata": {},
   "outputs": [],
   "source": []
  },
  {
   "cell_type": "markdown",
   "metadata": {},
   "source": [
    "## 1.5 Nonlinear AR model\n",
    " In this part, we switch to a nonlinear autoregressive (NAR) model, which is based on a feedforward neural network. This means that in this model the recursive equation for making predictions is still in the form $\\hat y_t=f_\\theta(y_{t-1},...,y_{t-p})$, but this time $f$ is a nonlinear function learned by the neural network. Fortunately almost all of the work for implementing the neural network and training it is handled by the `scikit-learn` package with a few lines of code, and we just need to choose the right structure, and prepare the input-output data.   "
   ]
  },
  {
   "cell_type": "markdown",
   "metadata": {},
   "source": [
    "**Q12**: Construct a NAR($p$) model with a feedforward (MLP) network, by using the `MLPRegressor` class from `scikit-learn`. Set $p$ to the same value as you chose for the linear AR model above. Initially, you can use an MLP with a single hidden layer consisting of 10 hidden neurons. \n",
    "Train it using the same training data as above and plot the one-step-ahead predictions as well as the residuals, on both the training and validation data. \n",
    "\n",
    "_Hint:_ You will need the methods `fit` and `predict` of `MLPRegressor`. Read the user guide of `scikit-learn` for more details. Recall that a NAR model is conceptuall very similar to an AR model, so you can reuse part of the code from above."
   ]
  },
  {
   "cell_type": "markdown",
   "metadata": {},
   "source": [
    "**A12:**"
   ]
  },
  {
   "cell_type": "code",
   "execution_count": null,
   "metadata": {},
   "outputs": [],
   "source": []
  },
  {
   "cell_type": "code",
   "execution_count": null,
   "metadata": {},
   "outputs": [],
   "source": []
  },
  {
   "cell_type": "markdown",
   "metadata": {},
   "source": [
    "**Q13:** Try to expirement with different choices for the hyperparameters of the network (e.g. number of hidden layers and units per layer, activation function, etc.) and the optimizer (e.g. `solver` and `max_iter`).\n",
    "\n",
    "Are you satisfied with the results? Why/why not? Discuss what the limitations of this approach might be."
   ]
  },
  {
   "cell_type": "markdown",
   "metadata": {},
   "source": [
    "**A13:**"
   ]
  },
  {
   "cell_type": "code",
   "execution_count": null,
   "metadata": {},
   "outputs": [],
   "source": []
  },
  {
   "cell_type": "code",
   "execution_count": null,
   "metadata": {},
   "outputs": [],
   "source": []
  }
 ],
 "metadata": {
  "kernelspec": {
   "display_name": "Python 3 (ipykernel)",
   "language": "python",
   "name": "python3"
  },
  "language_info": {
   "codemirror_mode": {
    "name": "ipython",
    "version": 3
   },
   "file_extension": ".py",
   "mimetype": "text/x-python",
   "name": "python",
   "nbconvert_exporter": "python",
   "pygments_lexer": "ipython3",
   "version": "3.8.11"
  }
 },
 "nbformat": 4,
 "nbformat_minor": 4
}
